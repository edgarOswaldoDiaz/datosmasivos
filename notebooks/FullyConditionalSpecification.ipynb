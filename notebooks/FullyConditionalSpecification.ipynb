{
 "cells": [
  {
   "cell_type": "markdown",
   "id": "eceb79b2-5ffa-4224-8efb-e00c9e5eda3c",
   "metadata": {},
   "source": [
    "# Generación de datos sintéticos con Fully conditional specification \n",
    "\n",
    "En este cuaderno se muestra un ejemplo de creación de datos sintéticos siguiendo el método de *fully conditional specification* en el lenguaje R."
   ]
  },
  {
   "cell_type": "markdown",
   "id": "4de6024b-e0e4-4371-9497-7012a3780579",
   "metadata": {},
   "source": [
    "## Instalación de bibliotecas\n",
    "\n",
    "En este ejemplo se utilizará la biblioteca de R synthpop la cual está específicamente creada para la creación y evaluación de datos sintéticos. También se hace uso de la biblioteca minio.s3 para el acceso al lago de datos y la biblioteca de tydiverse para manejar los datos. "
   ]
  },
  {
   "cell_type": "code",
   "execution_count": null,
   "id": "5755ba7f-caa4-437e-b702-be35de6660e0",
   "metadata": {
    "scrolled": true,
    "tags": [],
    "vscode": {
     "languageId": "r"
    }
   },
   "outputs": [],
   "source": [
    "library(devtools)\n",
    "install_github(\"nagdevAmruthnath/minio.s3\")\n",
    "install.packages(\"synthpop\")\n",
    "install.packages(\"tidyverse\")"
   ]
  },
  {
   "cell_type": "markdown",
   "id": "6aa51bcc-4e6b-4212-a45b-b06775a0a34a",
   "metadata": {},
   "source": [
    "## Importación de bibliotecas"
   ]
  },
  {
   "cell_type": "code",
   "execution_count": null,
   "id": "24a2a2f9-f910-47c5-a5aa-577c82e39728",
   "metadata": {
    "vscode": {
     "languageId": "r"
    }
   },
   "outputs": [],
   "source": [
    "library(minio.s3)\n",
    "library(dplyr)\n",
    "library(readr)\n",
    "library(forcats)\n",
    "library(stringr)\n",
    "library(synthpop)"
   ]
  },
  {
   "cell_type": "markdown",
   "id": "93f93e12-9fed-4d04-87bd-c078e936a0d9",
   "metadata": {},
   "source": [
    "## Variables de acceso al lago \n",
    "\n",
    "En la siguiente celda se establecen variables para acceder al lago de datos. Es necesario tener accesos adecuados para obtener los datos. "
   ]
  },
  {
   "cell_type": "code",
   "execution_count": null,
   "id": "67d96610-bd38-4290-aee1-aa6ce3edb6bc",
   "metadata": {
    "vscode": {
     "languageId": "r"
    }
   },
   "outputs": [],
   "source": [
    "Sys.setenv(\"AWS_ACCESS_KEY_ID\" = readline(prompt = \"Usuario: \"),\n",
    "           \"AWS_SECRET_ACCESS_KEY\" = getPass(prompt = \"Contraseña: \"),\n",
    "          \"AWS_S3_ENDPOINT\"= \"hostname:port\"\n",
    "          )\n",
    "ruta_archivo <- \"s3://carpeta/datos.ext\""
   ]
  },
  {
   "cell_type": "markdown",
   "id": "b5d2711d-a743-4a1d-b3ad-3c40b67eed4f",
   "metadata": {},
   "source": [
    "## Acceso a los datos del lago\n",
    "\n",
    "Para este ejercicio se obtuvieron datos de la Encuesta de Ocupación y Empleo. Estos difieren de los datos disponibles públicamente ya que contienen información real de localidad y manzana que son omitidas por cuestiones de privacidad. \n",
    "\n",
    "Debido a la naturaleza sensible de estos datos, el acceso a esta información es controlado solo a usuarios autorizados. Así también se omitirá desplegar información particular de los datos originales."
   ]
  },
  {
   "cell_type": "code",
   "execution_count": 4,
   "id": "d0d14409-736e-495c-97a5-d75af14122ee",
   "metadata": {
    "scrolled": true,
    "tags": [],
    "vscode": {
     "languageId": "r"
    }
   },
   "outputs": [],
   "source": [
    "tabla_sdem  <- as_tibble(s3read_using(read_csv, col_types =cols(.default =\"c\"), object=ruta_archivo, opts = list(use_https = F)))"
   ]
  },
  {
   "cell_type": "markdown",
   "id": "d24c1a0e-9c13-41fa-b6d0-2bd9aa5c07b6",
   "metadata": {},
   "source": [
    "## Variables de interés \n",
    "\n",
    "Para este ejercicio no requerimos hacer uso de FAC el cual indica el factor de expansión. Por lo que las variables de interés serán:\n",
    "\n",
    "- **LOC:** Localidad\n",
    "- **MUN:** Municipio\n",
    "- **T_LOC:** Tamaño de localidad \n",
    "- **MAN:** Manzana\n",
    "- **CD_A:** Ciudad auto representada\n",
    "- **ENT:** Entidad\n",
    "- **AGEB:** Área GeoEstadística Básica\n",
    "- **SEX:** Sexo\n",
    "- **EDA:** Edad \n",
    "- **NAC_DIA:** Dia de nacimiento\n",
    "- **NAC_MES:** Mes de nacimiento\n",
    "- **NAC_ANIO:** Año de nacimiento \n",
    "- **CS_P13_1:** Nivel escolar\n",
    "- **POS_OCU:** Posición en la ocupación\n",
    "- **INGOCUP:** Ingreso del personal ocupado \n",
    "\n",
    "Como se puede observar, las variables son en general variables de identificación o variables sensibles."
   ]
  },
  {
   "cell_type": "code",
   "execution_count": null,
   "id": "0f708146-179c-49a7-b7d7-c6ce5f40cdad",
   "metadata": {
    "vscode": {
     "languageId": "r"
    }
   },
   "outputs": [],
   "source": [
    "variables_interes <- c('LOC','MUN','T_LOC','MAN','CD_A','ENT','AGEB','SEX','EDA','NAC_DIA','NAC_MES','NAC_ANIO','CS_P13_1','POS_OCU','INGOCUP')\n",
    "variables_interes"
   ]
  },
  {
   "cell_type": "markdown",
   "id": "2f313506-2d60-4638-9b62-a2d616bf2271",
   "metadata": {},
   "source": [
    "La tabla original se limita a las variables de interés, dentro del mismo proceso se elige el tipo de variables. \n",
    "La mayoría de los datos son tipo factor. Debido a que representan un numero finito de clases donde no tiene sentido analizar el valor numérico.\n",
    "La excepción resulta las variables EDA, NAC_DIA, NAC_MES, NAC_ANIO, INGOCUP las cuales si hacen referencia a un valor numérico. \n",
    "\n",
    "Adicionalmente se realiza un muestreo aleatorio con solo el 1% de los datos, esto permite obtener resultados más rápidos. Una vez establecido el modelo final, es necesario utilizar la tabla de datos completa."
   ]
  },
  {
   "cell_type": "code",
   "execution_count": 6,
   "id": "4b68ef7c-c29b-4978-a6d5-ca7934c75e15",
   "metadata": {
    "scrolled": true,
    "tags": [],
    "vscode": {
     "languageId": "r"
    }
   },
   "outputs": [],
   "source": [
    "# Establecemos una semilla para que los resultados sean reproducibles\n",
    "set.seed(2022)\n",
    "sdem_interes  <- tabla_sdem %>% \n",
    "    select(all_of(variables_interes))  %>%\n",
    "    mutate_at( \n",
    "        c(\n",
    "            'LOC','MUN','T_LOC','MAN','CD_A','ENT','AGEB','SEX','CS_P13_1','POS_OCU'\n",
    "        ),\n",
    "        factor\n",
    "    ) %>% \n",
    "    mutate_at( \n",
    "        c(\n",
    "            'EDA','NAC_DIA','NAC_MES','NAC_ANIO','INGOCUP'\n",
    "        ),\n",
    "        as.numeric\n",
    "    ) %>% \n",
    "    slice_sample(prop=0.01,replace=FALSE)"
   ]
  },
  {
   "cell_type": "markdown",
   "id": "b11938ba-5120-44f9-ae21-51578a5cb641",
   "metadata": {},
   "source": [
    "Revisamos las variables de la tabla para identificar de manera temprana problemas. Revisamos que tengan la clase correcta y el número de faltantes sea correcto."
   ]
  },
  {
   "cell_type": "code",
   "execution_count": null,
   "id": "a06ccf36-4b97-4e82-a838-798b924680c4",
   "metadata": {
    "vscode": {
     "languageId": "r"
    }
   },
   "outputs": [],
   "source": [
    "var_data <- codebook.syn(sdem_interes)\n",
    "var_data$tab"
   ]
  },
  {
   "cell_type": "markdown",
   "id": "d930b460-7162-4264-8090-c8940d5b6427",
   "metadata": {},
   "source": [
    "## Síntesis\n",
    "\n",
    "El proceso de síntesis necesita adaptarse específicamente. La manera más sencilla de hacer esto es realizar una síntesis inicial sin crear registros. \n",
    "Con esto obtenemos las estructuras necesarias para adaptar el proceso, en las siguientes celdas se modificarán para nuestras necesidades.\n"
   ]
  },
  {
   "cell_type": "code",
   "execution_count": null,
   "id": "47d0ee6d-a30d-4581-aa9f-74bc70fbb857",
   "metadata": {
    "scrolled": true,
    "tags": [],
    "vscode": {
     "languageId": "r"
    }
   },
   "outputs": [],
   "source": [
    "system.time( syn_base <- syn(sdem_interes, m= 0, maxfaclevels = 6000) )\n",
    "syn_base"
   ]
  },
  {
   "cell_type": "markdown",
   "id": "9414f655-a5d9-484e-9468-b2ab72b1b0e8",
   "metadata": {},
   "source": [
    "### Secuencia de visita \n",
    "\n",
    "La manera que FCS funciona es que va modelando una variable a la vez. Por lo que es importante establecer el orden en que las columnas son sintetizadas. \n",
    "Comenzando con las variables \"independientes\" y después las variables que dependen de las primeras y así sucesivamente."
   ]
  },
  {
   "cell_type": "code",
   "execution_count": null,
   "id": "3c4d57b2-2bc8-48b7-a716-9571efaecccb",
   "metadata": {
    "vscode": {
     "languageId": "r"
    }
   },
   "outputs": [],
   "source": [
    "my_visitsequence <- syn_base$visit.sequence\n",
    "my_visitsequence"
   ]
  },
  {
   "cell_type": "code",
   "execution_count": null,
   "id": "87dd7f17-be85-4540-a9ea-52aaf6f099ac",
   "metadata": {
    "vscode": {
     "languageId": "r"
    }
   },
   "outputs": [],
   "source": [
    "my_visitsequence <- names( c(\n",
    "    my_visitsequence[\"ENT\"]\n",
    "    ,my_visitsequence[\"CD_A\"]\n",
    "    ,my_visitsequence[\"MUN\"]\n",
    "    ,my_visitsequence[\"LOC\"]\n",
    "    ,my_visitsequence[\"T_LOC\"]\n",
    "    ,my_visitsequence[\"AGEB\"]\n",
    "    ,my_visitsequence[\"MAN\"]\n",
    "    ,my_visitsequence[\"SEX\"]\n",
    "    ,my_visitsequence[\"EDA\"]\n",
    "    ,my_visitsequence[\"NAC_DIA\"]\n",
    "    ,my_visitsequence[\"NAC_MES\"]\n",
    "    ,my_visitsequence[\"NAC_ANIO\"]\n",
    "    ,my_visitsequence[\"CS_P13_1\"]\n",
    "    ,my_visitsequence[\"POS_OCU\"]\n",
    "    ,my_visitsequence[\"INGOCUP\"]\n",
    ")\n",
    ")\n",
    "my_visitsequence"
   ]
  },
  {
   "cell_type": "markdown",
   "id": "0d0a4e5b-b5c6-43c7-8027-840cecb4eb37",
   "metadata": {},
   "source": [
    "### Métodos de modelaje\n",
    "\n",
    "Es posible establecer el método con el que se va a modelar cada variable respecto a la naturaleza. \n",
    "Algunas variables solo necesitan ser elegidas aleatoriamente ya que no son predichas por otras variables por lo que 'sample' puede ser suficiente.\n",
    "\n",
    "El método por defecto es *classification and regression trees* (CART) el cual entrega buenos resultados, sin embargo, puede tener tiempos largos, sobre todo si el número de clases predictoras es bastante alto. \n",
    "\n",
    "El método de *bag* utiliza bagging con randmom forest, se encontró que este método es mucho más rápido que CART por lo que es usado cuando las relaciones entre variables son simples. Por ejemplo, la ciudad autorepresentada depende de la entidad pero la regla de decisión es bastante simple, solo se pueden elegir ciudades que están dentro de la entidad."
   ]
  },
  {
   "cell_type": "code",
   "execution_count": null,
   "id": "a6ba85d4-af3e-42d4-993d-bef09ce957f4",
   "metadata": {
    "vscode": {
     "languageId": "r"
    }
   },
   "outputs": [],
   "source": [
    "my_method <- syn_base$method\n",
    "my_method"
   ]
  },
  {
   "cell_type": "code",
   "execution_count": null,
   "id": "b550225c-296e-49fc-946b-f41a3d5d8fbe",
   "metadata": {
    "vscode": {
     "languageId": "r"
    }
   },
   "outputs": [],
   "source": [
    "my_method[\"ENT\"] <- \"sample\"\n",
    "my_method[\"CD_A\"] <- \"bag\"\n",
    "my_method[\"MUN\"] <- \"bag\"\n",
    "my_method[\"LOC\"] <- \"bag\"\n",
    "my_method[\"T_LOC\"] <- \"\" # No se calcula ya que es una regla directa de la localidad\n",
    "my_method[\"AGEB\"] <- \"sample\" # AGEB parece no depender de variables geograficas \n",
    "my_method[\"MAN\"] <- \"sample\" # MANZANA parece no depender de variables geograficas \n",
    "my_method[\"SEX\"] <- \"sample\" # se toma sexo como no relacionada con otra variable\n",
    "my_method[\"EDA\"] <- \"sample\" # se toma edad como no relacionada con otra variable\n",
    "my_method[\"NAC_DIA\"] <- \"sample\" # se toma dia de nacimiento como no relacionada con otra variable\n",
    "my_method[\"NAC_MES\"] <- \"sample\" # se toma mes de nacimiento como no relacionada con otra variable\n",
    "my_method[\"NAC_ANIO\"] <- \"cart\"\n",
    "my_method[\"CS_P13_1\"] <- \"cart\"\n",
    "my_method[\"POS_OCU\"] <- \"cart\"\n",
    "my_method[\"INGOCUP\"] <- \"cart\"\n",
    "\n",
    "my_method"
   ]
  },
  {
   "cell_type": "markdown",
   "id": "d2b7bb40-e6cb-46af-b9cd-09f3c21d5e70",
   "metadata": {},
   "source": [
    "### Matriz de predicciones \n",
    "\n",
    "La matriz de predicciones indica que variables fungirán como predictoras para otras variables. Por defecto, la primera variable no depende de ninguna otra, las variables n subsecuentes dependen de las n-1 variables ya sintetizadas. \n",
    "\n",
    "Esta aproximación es subóptima ya que algunas variables no tienen relación entre si e incluirlas puede aumentar la complejidad del modelo en gran medida."
   ]
  },
  {
   "cell_type": "code",
   "execution_count": null,
   "id": "73e87fc2-53e5-41ba-9a02-68ac40b78de7",
   "metadata": {
    "vscode": {
     "languageId": "r"
    }
   },
   "outputs": [],
   "source": [
    "my_predictormatrix <- syn_base$predictor.matrix\n",
    "my_predictormatrix"
   ]
  },
  {
   "cell_type": "code",
   "execution_count": null,
   "id": "0804ed4f-a552-4841-875d-8fc37ca12ba2",
   "metadata": {
    "vscode": {
     "languageId": "r"
    }
   },
   "outputs": [],
   "source": [
    "# Eliminamos todos los predictores para que sean establecidos de manera explicita\n",
    "my_predictormatrix[,] <- 0\n",
    "\n",
    "my_predictormatrix[\"CD_A\",c('ENT')] <- 1\n",
    "my_predictormatrix[\"MUN\",c('ENT','CD_A')] <- 1\n",
    "my_predictormatrix[\"LOC\",c('ENT','CD_A')] <- 1 # no nos permite a nivel municipio randomForest.default(m, y, ...): Can not handle categorical predictors with more than 53 categories.\n",
    "#my_predictormatrix[\"T_LOC\",c('ENT','MUN','LOC')] <- 1 \n",
    "my_predictormatrix[\"NAC_ANIO\",c('EDA','NAC_MES')] <- 1\n",
    "my_predictormatrix[\"CS_P13_1\",c('T_LOC','SEX','EDA')] <- 1\n",
    "my_predictormatrix[\"POS_OCU\",c('T_LOC','SEX','EDA',\"CS_P13_1\")] <- 1\n",
    "my_predictormatrix[\"INGOCUP\",c('T_LOC','SEX','EDA','POS_OCU')] <- 1\n",
    "\n",
    "my_predictormatrix"
   ]
  },
  {
   "cell_type": "markdown",
   "id": "930f3e98-fafb-40c2-b7d2-c083eb26a13d",
   "metadata": {},
   "source": [
    "### Modelo final\n",
    "\n",
    "Una vez que adaptamos los parámetros, procedemos a realizar la síntesis de la tabla.\n",
    "\n",
    "Note que se establece cont.na para identificar valores que representan información no disponible (NA). Esto permite dar contexto a los algoritmos de clasificación y regresión."
   ]
  },
  {
   "cell_type": "code",
   "execution_count": null,
   "id": "a8610fbb-e65d-4f07-a099-ef26dd1b0ad7",
   "metadata": {
    "vscode": {
     "languageId": "r"
    }
   },
   "outputs": [],
   "source": [
    "system.time( \n",
    "    sdem_interes_syn <- syn(\n",
    "        sdem_interes,\n",
    "        method = my_method,\n",
    "        visit.sequence = my_visitsequence,\n",
    "        predictor.matrix = my_predictormatrix,\n",
    "        maxfaclevels = 600,\n",
    "        cont.na = list(EDA=99 ,NAC_DIA  = 99, NAC_MES = 99, NAC_ANIO = 9999 ),\n",
    "        seed = 2022\n",
    "    ) \n",
    ")"
   ]
  },
  {
   "cell_type": "code",
   "execution_count": null,
   "id": "4e7bebb9-10e9-4408-8236-ff9dec71497b",
   "metadata": {
    "scrolled": true,
    "tags": [],
    "vscode": {
     "languageId": "r"
    }
   },
   "outputs": [],
   "source": [
    "sdem_interes_syn"
   ]
  },
  {
   "cell_type": "code",
   "execution_count": null,
   "id": "7084b776-a1fb-4624-90d0-87bec2ea11c7",
   "metadata": {
    "vscode": {
     "languageId": "r"
    }
   },
   "outputs": [],
   "source": [
    "summary(sdem_interes_syn)"
   ]
  },
  {
   "cell_type": "markdown",
   "id": "0b15405d-a967-46cd-9969-8537fd257f8a",
   "metadata": {},
   "source": [
    "## Evaluación del modelo\n",
    "\n",
    "La biblioteca synthpop también ofrece herramientas para evaluar las síntesis creadas. \n",
    "La más directa es comparar contra los modelos originales en conteos para cada una de las variables."
   ]
  },
  {
   "cell_type": "code",
   "execution_count": null,
   "id": "ea46d57a-1d60-450e-b4e2-bcd898d30340",
   "metadata": {
    "vscode": {
     "languageId": "r"
    }
   },
   "outputs": [],
   "source": [
    "compare(sdem_interes_syn, sdem_interes)"
   ]
  }
 ],
 "metadata": {
  "kernelspec": {
   "display_name": "R",
   "language": "R",
   "name": "ir"
  },
  "language_info": {
   "codemirror_mode": "r",
   "file_extension": ".r",
   "mimetype": "text/x-r-source",
   "name": "R",
   "pygments_lexer": "r",
   "version": "4.1.3"
  }
 },
 "nbformat": 4,
 "nbformat_minor": 5
}
