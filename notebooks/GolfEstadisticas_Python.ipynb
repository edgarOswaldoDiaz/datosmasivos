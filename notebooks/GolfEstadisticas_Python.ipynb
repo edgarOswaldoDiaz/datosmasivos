{
 "cells": [
  {
   "cell_type": "markdown",
   "id": "2b808e8f-a860-4fd2-8751-236d26fe5393",
   "metadata": {},
   "source": [
    "## PGA Official World Golf Ranking Tiger Woods"
   ]
  },
  {
   "cell_type": "code",
   "execution_count": 1,
   "id": "e55365ad-888f-436c-a4aa-980388e31250",
   "metadata": {},
   "outputs": [
    {
     "data": {
      "text/html": [
       "<div>\n",
       "<style scoped>\n",
       "    .dataframe tbody tr th:only-of-type {\n",
       "        vertical-align: middle;\n",
       "    }\n",
       "\n",
       "    .dataframe tbody tr th {\n",
       "        vertical-align: top;\n",
       "    }\n",
       "\n",
       "    .dataframe thead th {\n",
       "        text-align: right;\n",
       "    }\n",
       "</style>\n",
       "<table border=\"1\" class=\"dataframe\">\n",
       "  <thead>\n",
       "    <tr style=\"text-align: right;\">\n",
       "      <th></th>\n",
       "      <th>PlayerName</th>\n",
       "      <th>Season</th>\n",
       "      <th>Statistic</th>\n",
       "      <th>Variable</th>\n",
       "      <th>Value</th>\n",
       "    </tr>\n",
       "  </thead>\n",
       "  <tbody>\n",
       "    <tr>\n",
       "      <th>32016</th>\n",
       "      <td>Tiger Woods</td>\n",
       "      <td>2010</td>\n",
       "      <td>Official World Golf Ranking</td>\n",
       "      <td>Official World Golf Ranking - (EVENTS)</td>\n",
       "      <td>40</td>\n",
       "    </tr>\n",
       "    <tr>\n",
       "      <th>33009</th>\n",
       "      <td>Tiger Woods</td>\n",
       "      <td>2010</td>\n",
       "      <td>Official World Golf Ranking</td>\n",
       "      <td>Official World Golf Ranking - (AVG POINTS)</td>\n",
       "      <td>8.26</td>\n",
       "    </tr>\n",
       "    <tr>\n",
       "      <th>34002</th>\n",
       "      <td>Tiger Woods</td>\n",
       "      <td>2010</td>\n",
       "      <td>Official World Golf Ranking</td>\n",
       "      <td>Official World Golf Ranking - (TOTAL POINTS)</td>\n",
       "      <td>330.36</td>\n",
       "    </tr>\n",
       "    <tr>\n",
       "      <th>34995</th>\n",
       "      <td>Tiger Woods</td>\n",
       "      <td>2010</td>\n",
       "      <td>Official World Golf Ranking</td>\n",
       "      <td>Official World Golf Ranking - (POINTS LOST)</td>\n",
       "      <td>-396.35</td>\n",
       "    </tr>\n",
       "    <tr>\n",
       "      <th>35988</th>\n",
       "      <td>Tiger Woods</td>\n",
       "      <td>2010</td>\n",
       "      <td>Official World Golf Ranking</td>\n",
       "      <td>Official World Golf Ranking - (POINTS GAINED)</td>\n",
       "      <td>140.02</td>\n",
       "    </tr>\n",
       "    <tr>\n",
       "      <th>36981</th>\n",
       "      <td>Tiger Woods</td>\n",
       "      <td>2010</td>\n",
       "      <td>Official World Golf Ranking</td>\n",
       "      <td>Official World Golf Ranking - (COUNTRY)</td>\n",
       "      <td>USA</td>\n",
       "    </tr>\n",
       "  </tbody>\n",
       "</table>\n",
       "</div>"
      ],
      "text/plain": [
       "        PlayerName  Season                    Statistic  \\\n",
       "32016  Tiger Woods    2010  Official World Golf Ranking   \n",
       "33009  Tiger Woods    2010  Official World Golf Ranking   \n",
       "34002  Tiger Woods    2010  Official World Golf Ranking   \n",
       "34995  Tiger Woods    2010  Official World Golf Ranking   \n",
       "35988  Tiger Woods    2010  Official World Golf Ranking   \n",
       "36981  Tiger Woods    2010  Official World Golf Ranking   \n",
       "\n",
       "                                            Variable    Value  \n",
       "32016         Official World Golf Ranking - (EVENTS)       40  \n",
       "33009     Official World Golf Ranking - (AVG POINTS)     8.26  \n",
       "34002   Official World Golf Ranking - (TOTAL POINTS)   330.36  \n",
       "34995    Official World Golf Ranking - (POINTS LOST)  -396.35  \n",
       "35988  Official World Golf Ranking - (POINTS GAINED)   140.02  \n",
       "36981        Official World Golf Ranking - (COUNTRY)      USA  "
      ]
     },
     "execution_count": 1,
     "metadata": {},
     "output_type": "execute_result"
    }
   ],
   "source": [
    "import pandas as pd\n",
    "df = pd.read_csv('Golf_PGA.csv')\n",
    "#Ranking Mundial Oficial de Golf\n",
    "Estadistica = df[(df.Season == 2010) & (df.PlayerName == 'Tiger Woods') & (df.Statistic == 'Official World Golf Ranking')]\n",
    "Estadistica"
   ]
  },
  {
   "cell_type": "markdown",
   "id": "fb8a3172-338b-401d-8071-f499a064ddf7",
   "metadata": {},
   "source": [
    "###### Versión de código con base a Python y Pandas "
   ]
  }
 ],
 "metadata": {
  "kernelspec": {
   "display_name": "Python 3 (ipykernel)",
   "language": "python",
   "name": "python3"
  },
  "language_info": {
   "codemirror_mode": {
    "name": "ipython",
    "version": 3
   },
   "file_extension": ".py",
   "mimetype": "text/x-python",
   "name": "python",
   "nbconvert_exporter": "python",
   "pygments_lexer": "ipython3",
   "version": "3.9.10"
  }
 },
 "nbformat": 4,
 "nbformat_minor": 5
}
