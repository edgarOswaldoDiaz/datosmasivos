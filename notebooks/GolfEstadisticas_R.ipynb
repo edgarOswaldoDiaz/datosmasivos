{
 "cells": [
  {
   "cell_type": "markdown",
   "id": "a97e0b3e-ded4-4c9b-adab-9e4ca38a2f3e",
   "metadata": {
    "tags": []
   },
   "source": [
    "#### Contexto:Conjunto de datos de las estadísticas de todos los jugadores en el PGA Tour de una temporada.\n",
    "#### Proceso Implementar paquete para el manejo de datos [readr]\n",
    "#### Columnas\n",
    "##### PlayerName Nombre del jugador: Nombre del deportista\n",
    "##### Season Temporada: Temporada de interes\n",
    "##### Statistic Estadística métrica de rendimiento\n",
    "##### Variable: Subcategorías dentro de cada estadística\n",
    "##### Value, Valor de cada subcategoría dentro de cada estadística."
   ]
  },
  {
   "cell_type": "code",
   "execution_count": 1,
   "id": "22fd6a69-9358-429d-9e80-0b0c91c705f1",
   "metadata": {},
   "outputs": [
    {
     "data": {
      "text/html": [
       "<style>\n",
       ".list-inline {list-style: none; margin:0; padding: 0}\n",
       ".list-inline>li {display: inline-block}\n",
       ".list-inline>li:not(:last-child)::after {content: \"\\00b7\"; padding: 0 .5ex}\n",
       "</style>\n",
       "<ol class=list-inline><li>1048575</li><li>5</li></ol>\n"
      ],
      "text/latex": [
       "\\begin{enumerate*}\n",
       "\\item 1048575\n",
       "\\item 5\n",
       "\\end{enumerate*}\n"
      ],
      "text/markdown": [
       "1. 1048575\n",
       "2. 5\n",
       "\n",
       "\n"
      ],
      "text/plain": [
       "[1] 1048575       5"
      ]
     },
     "metadata": {},
     "output_type": "display_data"
    },
    {
     "data": {
      "text/html": [
       "<style>\n",
       ".list-inline {list-style: none; margin:0; padding: 0}\n",
       ".list-inline>li {display: inline-block}\n",
       ".list-inline>li:not(:last-child)::after {content: \"\\00b7\"; padding: 0 .5ex}\n",
       "</style>\n",
       "<ol class=list-inline><li>101</li><li>5</li></ol>\n"
      ],
      "text/latex": [
       "\\begin{enumerate*}\n",
       "\\item 101\n",
       "\\item 5\n",
       "\\end{enumerate*}\n"
      ],
      "text/markdown": [
       "1. 101\n",
       "2. 5\n",
       "\n",
       "\n"
      ],
      "text/plain": [
       "[1] 101   5"
      ]
     },
     "metadata": {},
     "output_type": "display_data"
    }
   ],
   "source": [
    "library(\"readr\")\n",
    "datos <- read.csv('Golf_PGA.csv')\n",
    "dataset <- subset(datos, Season == 2010 & PlayerName == 'Tiger Woods')\n",
    "dim(datos) #226 MB \n",
    "#dataset cargar los datos para procesamiento de información\n",
    "dim(dataset)"
   ]
  },
  {
   "cell_type": "markdown",
   "id": "e93d6b5a-7af3-42c5-9016-751b42923568",
   "metadata": {},
   "source": [
    "## Descriptores\n",
    "## Ranking Mundial Oficial de Golf"
   ]
  },
  {
   "cell_type": "code",
   "execution_count": 2,
   "id": "6e3e5c27-2da7-43fc-994d-f04312493709",
   "metadata": {},
   "outputs": [
    {
     "data": {
      "text/html": [
       "<table class=\"dataframe\">\n",
       "<caption>A data.frame: 6 × 5</caption>\n",
       "<thead>\n",
       "\t<tr><th></th><th scope=col>PlayerName</th><th scope=col>Season</th><th scope=col>Statistic</th><th scope=col>Variable</th><th scope=col>Value</th></tr>\n",
       "\t<tr><th></th><th scope=col>&lt;chr&gt;</th><th scope=col>&lt;int&gt;</th><th scope=col>&lt;chr&gt;</th><th scope=col>&lt;chr&gt;</th><th scope=col>&lt;chr&gt;</th></tr>\n",
       "</thead>\n",
       "<tbody>\n",
       "\t<tr><th scope=row>32017</th><td>Tiger Woods</td><td>2010</td><td>Official World Golf Ranking</td><td>Official World Golf Ranking - (EVENTS)       </td><td>40     </td></tr>\n",
       "\t<tr><th scope=row>33010</th><td>Tiger Woods</td><td>2010</td><td>Official World Golf Ranking</td><td>Official World Golf Ranking - (AVG POINTS)   </td><td>8.26   </td></tr>\n",
       "\t<tr><th scope=row>34003</th><td>Tiger Woods</td><td>2010</td><td>Official World Golf Ranking</td><td>Official World Golf Ranking - (TOTAL POINTS) </td><td>330.36 </td></tr>\n",
       "\t<tr><th scope=row>34996</th><td>Tiger Woods</td><td>2010</td><td>Official World Golf Ranking</td><td>Official World Golf Ranking - (POINTS LOST)  </td><td>-396.35</td></tr>\n",
       "\t<tr><th scope=row>35989</th><td>Tiger Woods</td><td>2010</td><td>Official World Golf Ranking</td><td>Official World Golf Ranking - (POINTS GAINED)</td><td>140.02 </td></tr>\n",
       "\t<tr><th scope=row>36982</th><td>Tiger Woods</td><td>2010</td><td>Official World Golf Ranking</td><td>Official World Golf Ranking - (COUNTRY)      </td><td>USA    </td></tr>\n",
       "</tbody>\n",
       "</table>\n"
      ],
      "text/latex": [
       "A data.frame: 6 × 5\n",
       "\\begin{tabular}{r|lllll}\n",
       "  & PlayerName & Season & Statistic & Variable & Value\\\\\n",
       "  & <chr> & <int> & <chr> & <chr> & <chr>\\\\\n",
       "\\hline\n",
       "\t32017 & Tiger Woods & 2010 & Official World Golf Ranking & Official World Golf Ranking - (EVENTS)        & 40     \\\\\n",
       "\t33010 & Tiger Woods & 2010 & Official World Golf Ranking & Official World Golf Ranking - (AVG POINTS)    & 8.26   \\\\\n",
       "\t34003 & Tiger Woods & 2010 & Official World Golf Ranking & Official World Golf Ranking - (TOTAL POINTS)  & 330.36 \\\\\n",
       "\t34996 & Tiger Woods & 2010 & Official World Golf Ranking & Official World Golf Ranking - (POINTS LOST)   & -396.35\\\\\n",
       "\t35989 & Tiger Woods & 2010 & Official World Golf Ranking & Official World Golf Ranking - (POINTS GAINED) & 140.02 \\\\\n",
       "\t36982 & Tiger Woods & 2010 & Official World Golf Ranking & Official World Golf Ranking - (COUNTRY)       & USA    \\\\\n",
       "\\end{tabular}\n"
      ],
      "text/markdown": [
       "\n",
       "A data.frame: 6 × 5\n",
       "\n",
       "| <!--/--> | PlayerName &lt;chr&gt; | Season &lt;int&gt; | Statistic &lt;chr&gt; | Variable &lt;chr&gt; | Value &lt;chr&gt; |\n",
       "|---|---|---|---|---|---|\n",
       "| 32017 | Tiger Woods | 2010 | Official World Golf Ranking | Official World Golf Ranking - (EVENTS)        | 40      |\n",
       "| 33010 | Tiger Woods | 2010 | Official World Golf Ranking | Official World Golf Ranking - (AVG POINTS)    | 8.26    |\n",
       "| 34003 | Tiger Woods | 2010 | Official World Golf Ranking | Official World Golf Ranking - (TOTAL POINTS)  | 330.36  |\n",
       "| 34996 | Tiger Woods | 2010 | Official World Golf Ranking | Official World Golf Ranking - (POINTS LOST)   | -396.35 |\n",
       "| 35989 | Tiger Woods | 2010 | Official World Golf Ranking | Official World Golf Ranking - (POINTS GAINED) | 140.02  |\n",
       "| 36982 | Tiger Woods | 2010 | Official World Golf Ranking | Official World Golf Ranking - (COUNTRY)       | USA     |\n",
       "\n"
      ],
      "text/plain": [
       "      PlayerName  Season Statistic                  \n",
       "32017 Tiger Woods 2010   Official World Golf Ranking\n",
       "33010 Tiger Woods 2010   Official World Golf Ranking\n",
       "34003 Tiger Woods 2010   Official World Golf Ranking\n",
       "34996 Tiger Woods 2010   Official World Golf Ranking\n",
       "35989 Tiger Woods 2010   Official World Golf Ranking\n",
       "36982 Tiger Woods 2010   Official World Golf Ranking\n",
       "      Variable                                      Value  \n",
       "32017 Official World Golf Ranking - (EVENTS)        40     \n",
       "33010 Official World Golf Ranking - (AVG POINTS)    8.26   \n",
       "34003 Official World Golf Ranking - (TOTAL POINTS)  330.36 \n",
       "34996 Official World Golf Ranking - (POINTS LOST)   -396.35\n",
       "35989 Official World Golf Ranking - (POINTS GAINED) 140.02 \n",
       "36982 Official World Golf Ranking - (COUNTRY)       USA    "
      ]
     },
     "metadata": {},
     "output_type": "display_data"
    }
   ],
   "source": [
    "Lider <- subset(datos, subset=Statistic == 'Official World Golf Ranking' & Season == 2010 & PlayerName == 'Tiger Woods')\n",
    "Lider"
   ]
  },
  {
   "cell_type": "markdown",
   "id": "ac72d7a2-ca2d-4101-941b-1ab969e61b12",
   "metadata": {},
   "source": [
    "## Ganancias por líderes de eventos"
   ]
  },
  {
   "cell_type": "code",
   "execution_count": 3,
   "id": "182e17af-1363-481c-8755-13a7a62b2faf",
   "metadata": {},
   "outputs": [
    {
     "data": {
      "text/html": [
       "<table class=\"dataframe\">\n",
       "<caption>A data.frame: 3 × 5</caption>\n",
       "<thead>\n",
       "\t<tr><th></th><th scope=col>PlayerName</th><th scope=col>Season</th><th scope=col>Statistic</th><th scope=col>Variable</th><th scope=col>Value</th></tr>\n",
       "\t<tr><th></th><th scope=col>&lt;chr&gt;</th><th scope=col>&lt;int&gt;</th><th scope=col>&lt;chr&gt;</th><th scope=col>&lt;chr&gt;</th><th scope=col>&lt;chr&gt;</th></tr>\n",
       "</thead>\n",
       "<tbody>\n",
       "\t<tr><th scope=row>23369</th><td>Tiger Woods</td><td>2010</td><td>Money per Event Leaders</td><td>Money per Event Leaders - (EVENTS)         </td><td>12       </td></tr>\n",
       "\t<tr><th scope=row>23725</th><td>Tiger Woods</td><td>2010</td><td>Money per Event Leaders</td><td>Money per Event Leaders - (MONEY PER EVENT)</td><td>107,897  </td></tr>\n",
       "\t<tr><th scope=row>24081</th><td>Tiger Woods</td><td>2010</td><td>Money per Event Leaders</td><td>Money per Event Leaders - (TOTAL MONEY)    </td><td>1,294,764</td></tr>\n",
       "</tbody>\n",
       "</table>\n"
      ],
      "text/latex": [
       "A data.frame: 3 × 5\n",
       "\\begin{tabular}{r|lllll}\n",
       "  & PlayerName & Season & Statistic & Variable & Value\\\\\n",
       "  & <chr> & <int> & <chr> & <chr> & <chr>\\\\\n",
       "\\hline\n",
       "\t23369 & Tiger Woods & 2010 & Money per Event Leaders & Money per Event Leaders - (EVENTS)          & 12       \\\\\n",
       "\t23725 & Tiger Woods & 2010 & Money per Event Leaders & Money per Event Leaders - (MONEY PER EVENT) & 107,897  \\\\\n",
       "\t24081 & Tiger Woods & 2010 & Money per Event Leaders & Money per Event Leaders - (TOTAL MONEY)     & 1,294,764\\\\\n",
       "\\end{tabular}\n"
      ],
      "text/markdown": [
       "\n",
       "A data.frame: 3 × 5\n",
       "\n",
       "| <!--/--> | PlayerName &lt;chr&gt; | Season &lt;int&gt; | Statistic &lt;chr&gt; | Variable &lt;chr&gt; | Value &lt;chr&gt; |\n",
       "|---|---|---|---|---|---|\n",
       "| 23369 | Tiger Woods | 2010 | Money per Event Leaders | Money per Event Leaders - (EVENTS)          | 12        |\n",
       "| 23725 | Tiger Woods | 2010 | Money per Event Leaders | Money per Event Leaders - (MONEY PER EVENT) | 107,897   |\n",
       "| 24081 | Tiger Woods | 2010 | Money per Event Leaders | Money per Event Leaders - (TOTAL MONEY)     | 1,294,764 |\n",
       "\n"
      ],
      "text/plain": [
       "      PlayerName  Season Statistic              \n",
       "23369 Tiger Woods 2010   Money per Event Leaders\n",
       "23725 Tiger Woods 2010   Money per Event Leaders\n",
       "24081 Tiger Woods 2010   Money per Event Leaders\n",
       "      Variable                                    Value    \n",
       "23369 Money per Event Leaders - (EVENTS)          12       \n",
       "23725 Money per Event Leaders - (MONEY PER EVENT) 107,897  \n",
       "24081 Money per Event Leaders - (TOTAL MONEY)     1,294,764"
      ]
     },
     "metadata": {},
     "output_type": "display_data"
    }
   ],
   "source": [
    "Money <- subset(datos, subset=Statistic == 'Money per Event Leaders' & Season == 2010 & PlayerName == 'Tiger Woods')\n",
    "Money"
   ]
  },
  {
   "cell_type": "markdown",
   "id": "3869e993-05c8-4e02-be2d-e50899b03b5f",
   "metadata": {},
   "source": [
    "## Puntos del campeonato de la PGA"
   ]
  },
  {
   "cell_type": "code",
   "execution_count": 4,
   "id": "4035b967-0c83-4506-8869-7910ce611700",
   "metadata": {},
   "outputs": [
    {
     "data": {
      "text/html": [
       "<table class=\"dataframe\">\n",
       "<caption>A data.frame: 2 × 5</caption>\n",
       "<thead>\n",
       "\t<tr><th></th><th scope=col>PlayerName</th><th scope=col>Season</th><th scope=col>Statistic</th><th scope=col>Variable</th><th scope=col>Value</th></tr>\n",
       "\t<tr><th></th><th scope=col>&lt;chr&gt;</th><th scope=col>&lt;int&gt;</th><th scope=col>&lt;chr&gt;</th><th scope=col>&lt;chr&gt;</th><th scope=col>&lt;chr&gt;</th></tr>\n",
       "</thead>\n",
       "<tbody>\n",
       "\t<tr><th scope=row>15013</th><td>Tiger Woods</td><td>2010</td><td>PGA Championship Points</td><td>PGA Championship Points - (EVENTS)</td><td>5      </td></tr>\n",
       "\t<tr><th scope=row>15273</th><td>Tiger Woods</td><td>2010</td><td>PGA Championship Points</td><td>PGA Championship Points - (POINTS)</td><td>505,254</td></tr>\n",
       "</tbody>\n",
       "</table>\n"
      ],
      "text/latex": [
       "A data.frame: 2 × 5\n",
       "\\begin{tabular}{r|lllll}\n",
       "  & PlayerName & Season & Statistic & Variable & Value\\\\\n",
       "  & <chr> & <int> & <chr> & <chr> & <chr>\\\\\n",
       "\\hline\n",
       "\t15013 & Tiger Woods & 2010 & PGA Championship Points & PGA Championship Points - (EVENTS) & 5      \\\\\n",
       "\t15273 & Tiger Woods & 2010 & PGA Championship Points & PGA Championship Points - (POINTS) & 505,254\\\\\n",
       "\\end{tabular}\n"
      ],
      "text/markdown": [
       "\n",
       "A data.frame: 2 × 5\n",
       "\n",
       "| <!--/--> | PlayerName &lt;chr&gt; | Season &lt;int&gt; | Statistic &lt;chr&gt; | Variable &lt;chr&gt; | Value &lt;chr&gt; |\n",
       "|---|---|---|---|---|---|\n",
       "| 15013 | Tiger Woods | 2010 | PGA Championship Points | PGA Championship Points - (EVENTS) | 5       |\n",
       "| 15273 | Tiger Woods | 2010 | PGA Championship Points | PGA Championship Points - (POINTS) | 505,254 |\n",
       "\n"
      ],
      "text/plain": [
       "      PlayerName  Season Statistic              \n",
       "15013 Tiger Woods 2010   PGA Championship Points\n",
       "15273 Tiger Woods 2010   PGA Championship Points\n",
       "      Variable                           Value  \n",
       "15013 PGA Championship Points - (EVENTS) 5      \n",
       "15273 PGA Championship Points - (POINTS) 505,254"
      ]
     },
     "metadata": {},
     "output_type": "display_data"
    }
   ],
   "source": [
    "Puntos <- subset(datos, subset=Statistic == 'PGA Championship Points' & Season == 2010 & PlayerName == 'Tiger Woods')\n",
    "Puntos"
   ]
  }
 ],
 "metadata": {
  "kernelspec": {
   "display_name": "R",
   "language": "R",
   "name": "ir"
  },
  "language_info": {
   "codemirror_mode": "r",
   "file_extension": ".r",
   "mimetype": "text/x-r-source",
   "name": "R",
   "pygments_lexer": "r",
   "version": "4.1.2"
  }
 },
 "nbformat": 4,
 "nbformat_minor": 5
}
