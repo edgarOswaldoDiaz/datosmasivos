{
 "cells": [
  {
   "cell_type": "markdown",
   "id": "58c03e1a-001b-4c62-8772-7811ff98e612",
   "metadata": {},
   "source": [
    "# Generación de datos sintéticos con *Generative Adversarial Network* (GAN)\n",
    "\n",
    "En este cuaderno se muestra un ejemplo de creación de datos sintéticos utilizando  *Generative Adversarial Network* (GAN) en el lenguaje Python. \n",
    "El método aquí presentado está basado en el documento [Modeling Tabular Data using Conditional GAN](https://arxiv.org/pdf/1907.00503)\n",
    "\n",
    "A un nivel muy general, las GAN funcionan creando dos modelos, \n",
    "\n",
    "- Un modelo que transforma datos aleatorios en vectores semejantes a un registro. Al que se le llamara generador\n",
    "- Un modelo que al recibir un vector semejante a un registro, decide si este registro es real o sintético, llamado discriminador\n",
    "\n",
    "Estos dos modelos son entrenados iterativamente con distintos propósitos, el discriminador es entrenado para poder diferenciar entre los registros reales y los creados por el generador. \n",
    "Por otra parte el generador es entrenado para crear registros tan auténticos que logren engañar al discriminador.\n"
   ]
  },
  {
   "cell_type": "markdown",
   "id": "1aec4a34-d419-46ba-b22b-19f6943184a4",
   "metadata": {
    "jp-MarkdownHeadingCollapsed": true,
    "tags": []
   },
   "source": [
    "## Instalación e importación de bibliotecas \n",
    "\n",
    "Para este ejercicio se hace uso de la biblioteca [SDV](https://sdv.dev/SDV/index.html) la cual permite generar datos sintéticos.\n",
    "\n",
    "También se hace uso de la biblioteca pandas para el manejo de los datos en el lago de datos.\n",
    "\n",
    "\n",
    "Este cuaderno está basado en la imagen de contenedor [jupyter/tensorflow-notebook:python-3.8](https://hub.docker.com/layers/jupyter/tensorflow-notebook/python-3.8/images/sha256-c077d121c38b1435ed7a9652180eae21e6d92ad842cc2a53e7162d3719604cfb?context=explore)"
   ]
  },
  {
   "cell_type": "code",
   "execution_count": null,
   "id": "35943280-d817-44be-830b-4eb3deda35e8",
   "metadata": {
    "collapsed": true,
    "jupyter": {
     "outputs_hidden": true,
     "source_hidden": true
    },
    "tags": []
   },
   "outputs": [],
   "source": [
    "pip install s3fs==2022.11.0 sdv==0.17.1 kaleido"
   ]
  },
  {
   "cell_type": "code",
   "execution_count": 2,
   "id": "2980aae2-e13c-4309-92c3-1db12515ff14",
   "metadata": {
    "jupyter": {
     "source_hidden": true
    },
    "tags": []
   },
   "outputs": [],
   "source": [
    "from getpass import getpass\n",
    "import pandas as pd \n",
    "\n",
    "from sdv.tabular import CTGAN\n",
    "from sdv.evaluation import evaluate\n",
    "\n",
    "from sdmetrics.reports.single_table import QualityReport\n",
    "\n",
    "from sdmetrics.reports import utils"
   ]
  },
  {
   "cell_type": "markdown",
   "id": "be412ae6-82d1-4176-b355-0e327dabf4da",
   "metadata": {},
   "source": [
    "## Acceso a los datos del lago\n",
    "\n",
    "Para este ejercicio se obtuvieron datos de la Encuesta de Ocupación y Empleo. Estos difieren de los datos disponibles públicamente ya que contienen información real de localidad y manzana que son omitidas por cuestiones de privacidad. \n",
    "\n",
    "### Variables de acceso al lago \n",
    "\n",
    "En la siguiente celda se establecen variables para acceder al lago de datos. Es necesario tener accesos adecuados para obtener los datos. "
   ]
  },
  {
   "cell_type": "code",
   "execution_count": null,
   "id": "1a8131c4-de6a-4839-a5dc-c801a5480fb2",
   "metadata": {},
   "outputs": [],
   "source": [
    "usuario_lago = input(\"Usuario: \")\n",
    "contraseña_lago =  getpass(prompt = 'Contraseña: ')"
   ]
  },
  {
   "cell_type": "code",
   "execution_count": null,
   "id": "a419c3f0-ea83-40a3-b794-37cee124111c",
   "metadata": {
    "jupyter": {
     "source_hidden": true
    },
    "tags": []
   },
   "outputs": [],
   "source": [
    "opciones_almacenamiento={\n",
    "        \"key\": usuario_lago,\n",
    "        \"secret\": contraseña_lago,\n",
    "        \"client_kwargs\": {\"endpoint_url\": \"http://host:port\"}\n",
    "    }"
   ]
  },
  {
   "cell_type": "code",
   "execution_count": null,
   "id": "15f02483-e5af-43af-bf2f-352132f055aa",
   "metadata": {
    "jupyter": {
     "source_hidden": true
    },
    "tags": []
   },
   "outputs": [],
   "source": [
    "ruta_archivo = \"s3://carpeta/archivo.ext\"\n",
    "\n",
    "tabla_sdem = pd.read_csv(\n",
    "    ruta_archivo, \n",
    "    storage_options = opciones_almacenamiento,\n",
    "    encoding = \"latin-1\",\n",
    "    low_memory=False,\n",
    "    dtype= {\n",
    "        'LOC':\"str\", 'MUN':\"str\", 'T_LOC':\"str\", 'MAN':\"str\", 'CD_A':\"str\", 'ENT':\"str\", 'AGEB':\"str\", \n",
    "        'SEX':\"str\", 'EDA':'float32', 'NAC_DIA':\"str\", 'NAC_MES':\"str\", 'NAC_ANIO':'float32', 'CS_P13_1':\"str\", 'POS_OCU':\"str\", 'INGOCUP':'float32',\n",
    "       'FAC':'float32'\n",
    "    },\n",
    "    na_values = [\" \",\"\"]\n",
    ")"
   ]
  },
  {
   "cell_type": "markdown",
   "id": "c9e6f8e2-65b7-40cd-9074-378fe297ab8c",
   "metadata": {},
   "source": [
    "## Variables de interés \n",
    "\n",
    "Para este ejercicio no requerimos hacer uso de FAC el cual indica el factor de expansión. Por lo que las variables de interés serán:\n",
    "\n",
    "- **LOC:** Localidad\n",
    "- **MUN:** Municipio\n",
    "- **T_LOC:** Tamaño de localidad \n",
    "- **MAN:** Manzana\n",
    "- **CD_A:** Ciudad auto representada\n",
    "- **ENT:** Entidad\n",
    "- **SEX:** Sexo\n",
    "- **EDA:** Edad \n",
    "- **NAC_DIA:** Dia de nacimiento\n",
    "- **NAC_MES:** Mes de nacimiento\n",
    "- **NAC_ANIO:** Año de nacimiento \n",
    "- **CS_P13_1:** Nivel escolar\n",
    "- **POS_OCU:** Posición en la ocupación\n",
    "- **INGOCUP:** Ingreso del personal ocupado \n",
    "\n",
    "Como se puede observar, las variables son en general variables de identificación o variables sensibles. Por lo que la aplicación de datos sintéticos resulta ideal."
   ]
  },
  {
   "cell_type": "code",
   "execution_count": 6,
   "id": "83e8c277-6f37-4994-9722-6ba77b76ffc9",
   "metadata": {
    "jupyter": {
     "source_hidden": true
    },
    "tags": []
   },
   "outputs": [],
   "source": [
    "variables_interes = ['LOC','MUN','T_LOC','MAN','CD_A','ENT','SEX','EDA','NAC_DIA','NAC_MES','NAC_ANIO','CS_P13_1','POS_OCU','INGOCUP']\n",
    "\n",
    "tabla_sdem_interes = tabla_sdem[variables_interes]"
   ]
  },
  {
   "cell_type": "code",
   "execution_count": 7,
   "id": "81faa655-845e-4ddc-87e8-028ad97723b5",
   "metadata": {
    "jupyter": {
     "source_hidden": true
    },
    "tags": []
   },
   "outputs": [],
   "source": [
    "metadatos = {\n",
    "    \"fields\":{\n",
    "        'LOC':{\"type\": \"categorical\"},\n",
    "        'MUN':{\"type\": \"categorical\"},\n",
    "        'T_LOC':{\"type\": \"categorical\"},\n",
    "        'MAN':{\"type\": \"categorical\"},\n",
    "        'CD_A':{\"type\": \"categorical\"},\n",
    "        'ENT':{\"type\": \"categorical\"},\n",
    "        'SEX':{\"type\": \"categorical\"},\n",
    "        'EDA':{\"type\": \"numerical\", 'subtype': 'integer'},\n",
    "        'NAC_DIA':{\"type\": \"categorical\"},\n",
    "        'NAC_MES':{\"type\": \"categorical\"},\n",
    "        'NAC_ANIO':{\"type\": \"numerical\", 'subtype': 'integer'},\n",
    "        'CS_P13_1':{\"type\": \"categorical\"},\n",
    "        'POS_OCU':{\"type\": \"categorical\"},\n",
    "        'INGOCUP':{\"type\": \"numerical\", 'subtype': 'integer'},\n",
    "    },\n",
    "    'constraints': [],\n",
    "    'model_kwargs': {},\n",
    "    'name': None,\n",
    "    'primary_key': None,\n",
    "    'sequence_index': None,\n",
    "    'entity_columns': [],\n",
    "    'context_columns': []\n",
    "}\n"
   ]
  },
  {
   "cell_type": "markdown",
   "id": "b71938d4-9c65-46be-80d5-2a08b3db7504",
   "metadata": {},
   "source": [
    "## Creación del modelo \n",
    "\n",
    "Creamos el modelo, el cual fue adaptado para reducir el tiempo de entrenamiento.\n",
    "Adicionalmente medimos el tiempo que tomó hacer el entrenamiento. \n",
    "\n",
    "Aun con las medidas tomadas los tiempos de entrenamiento se pueden extender a horas por lo que debe usarse con precaución."
   ]
  },
  {
   "cell_type": "code",
   "execution_count": null,
   "id": "3d13a221-92c2-4a24-a642-dc4a04db6072",
   "metadata": {},
   "outputs": [],
   "source": [
    "model = CTGAN(\n",
    "        epochs=10,\n",
    "    batch_size=100,\n",
    "    verbose=True\n",
    ")"
   ]
  },
  {
   "cell_type": "code",
   "execution_count": null,
   "id": "541293e1-a41e-4ba3-bd1f-9e17106ceb33",
   "metadata": {},
   "outputs": [],
   "source": [
    "%%time\n",
    "model.fit(\n",
    "    tabla_sdem_interes\n",
    "\n",
    ")"
   ]
  },
  {
   "cell_type": "code",
   "execution_count": null,
   "id": "cf0b0ecd-17d8-4ea2-8c4b-1ce35d7690d6",
   "metadata": {
    "jupyter": {
     "source_hidden": true
    },
    "tags": []
   },
   "outputs": [],
   "source": [
    "model.save('GAN_ENOE.pkl')"
   ]
  },
  {
   "cell_type": "markdown",
   "id": "f7c48cff-6fac-4a35-9939-11be907b9079",
   "metadata": {},
   "source": [
    "### Creación de datos sintéticos \n",
    "\n",
    "Ya que esta el modelo creado, se puede utilizar para crear registros sintéticos."
   ]
  },
  {
   "cell_type": "code",
   "execution_count": 8,
   "id": "31162c00-6bf1-47ce-90eb-8176d1a261ba",
   "metadata": {
    "jupyter": {
     "source_hidden": true
    },
    "tags": []
   },
   "outputs": [],
   "source": [
    "model = CTGAN.load('GAN_ENOE.pkl')"
   ]
  },
  {
   "cell_type": "code",
   "execution_count": null,
   "id": "82abc1ff-65ad-4396-a868-fe66762ee6db",
   "metadata": {
    "jupyter": {
     "source_hidden": true
    },
    "tags": []
   },
   "outputs": [],
   "source": [
    "%%time\n",
    "tabla_sdem_interes_syn = model.sample(len(tabla_sdem_interes))\n",
    "tabla_sdem_interes_syn"
   ]
  },
  {
   "cell_type": "markdown",
   "id": "a7163dc9-d564-4460-9e82-fb880ac1a21b",
   "metadata": {},
   "source": [
    "## Revisión de resultados\n",
    "\n",
    "La biblioteca SDG también proporciona métodos para evaluar los datos generados.\n",
    "\n",
    "Podemos obtener un dato general el cual es simplemente el agregado de las métricas calculadas, las cuales también se pueden obtener como se aprecia debajo.\n"
   ]
  },
  {
   "cell_type": "code",
   "execution_count": null,
   "id": "a2ac73be-12eb-4dd3-bb27-201d49e7446b",
   "metadata": {
    "jupyter": {
     "source_hidden": true
    },
    "tags": []
   },
   "outputs": [],
   "source": [
    "evaluate(tabla_sdem_interes_syn, tabla_sdem_interes)"
   ]
  },
  {
   "cell_type": "code",
   "execution_count": null,
   "id": "cdbb7bb4-6f9b-4927-8a66-b969fde74eae",
   "metadata": {
    "jupyter": {
     "source_hidden": true
    },
    "tags": []
   },
   "outputs": [],
   "source": [
    "evaluate(tabla_sdem_interes_syn, tabla_sdem_interes,aggregate =False)"
   ]
  },
  {
   "cell_type": "markdown",
   "id": "54723eb0-0a50-4375-a447-37db4395fa2c",
   "metadata": {},
   "source": [
    "Es posible obtener un reporte más detallado con información por columna.\n",
    "\n",
    "Para columnas sencillas se evalúan las distribuciones marginales. Dependiendo de la naturaleza de la columna se evalúa con \n",
    "- el estadístico Kolmogorov-Smirnov complemento para variables continuas\n",
    "- la distancia de variación total (TVD por sus singlas en inglés) para variables categóricas\n",
    "\n",
    "También se puede evaluar pares de columnas calculando la similitud en la correlación o la similitud en las tablas de contingencia.\n",
    "\n",
    "Para ello es necesario generar un reporte de calidad como se muestra a continuación\n"
   ]
  },
  {
   "cell_type": "code",
   "execution_count": null,
   "id": "8db24f9c-3471-4392-b0e1-54ec4ab9c521",
   "metadata": {
    "jupyter": {
     "source_hidden": true
    },
    "tags": []
   },
   "outputs": [],
   "source": [
    "reporte = QualityReport()\n",
    "\n",
    "reporte.generate(tabla_sdem_interes, tabla_sdem_interes_syn, metadatos)"
   ]
  },
  {
   "cell_type": "code",
   "execution_count": null,
   "id": "a2f3975a-0afb-4376-9059-d5e5003f4fc2",
   "metadata": {
    "jupyter": {
     "source_hidden": true
    },
    "tags": []
   },
   "outputs": [],
   "source": [
    "reporte.get_details(property_name='Column Shapes')"
   ]
  },
  {
   "cell_type": "code",
   "execution_count": null,
   "id": "f58ce645-ea8f-40e7-b3ca-2cce1597c099",
   "metadata": {
    "jupyter": {
     "source_hidden": true
    },
    "tags": []
   },
   "outputs": [],
   "source": [
    "reporte.get_details(property_name='Column Pair Trends')"
   ]
  },
  {
   "cell_type": "markdown",
   "id": "b02a92ee-d075-4311-a0e7-2d5f28689294",
   "metadata": {},
   "source": [
    "Finalmente, podemos evaluar de manera visual la distribución de ambas tablas para detectar anomalías"
   ]
  },
  {
   "cell_type": "code",
   "execution_count": null,
   "id": "1e948f80-824a-4ae6-be5e-49afe67ff9dc",
   "metadata": {
    "tags": []
   },
   "outputs": [],
   "source": [
    "for columna in tabla_sdem_interes.columns:\n",
    "    utils.get_column_plot(\n",
    "        tabla_sdem_interes,\n",
    "        tabla_sdem_interes_syn,\n",
    "        column_name=columna,\n",
    "        metadata=metadatos\n",
    "    ).show(renderer=\"png\")"
   ]
  },
  {
   "cell_type": "code",
   "execution_count": null,
   "id": "1a308c99-93cb-4a51-b0f9-c7622bbf48f9",
   "metadata": {},
   "outputs": [],
   "source": []
  }
 ],
 "metadata": {
  "kernelspec": {
   "display_name": "Python 3 (ipykernel)",
   "language": "python",
   "name": "python3"
  },
  "language_info": {
   "codemirror_mode": {
    "name": "ipython",
    "version": 3
   },
   "file_extension": ".py",
   "mimetype": "text/x-python",
   "name": "python",
   "nbconvert_exporter": "python",
   "pygments_lexer": "ipython3",
   "version": "3.8.13"
  }
 },
 "nbformat": 4,
 "nbformat_minor": 5
}
