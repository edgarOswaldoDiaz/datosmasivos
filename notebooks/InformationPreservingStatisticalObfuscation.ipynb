{
 "cells": [
  {
   "cell_type": "markdown",
   "id": "b143d8c0-c0fb-4e38-b728-bd590af76b46",
   "metadata": {},
   "source": [
    "# Generación de datos sintéticos con *Information Preserving Statistical Obfuscation* (IPSO)\n",
    "\n",
    "En este cuaderno se muestra un ejemplo de creación de datos sintéticos siguiendo el método de *Information Preserving Statistical Obfuscation* (IPSO) en el lenguaje R. Este método produce datos sintéticos que preserva varianzas, covarianzas y valores ajustados. \n",
    "\n",
    "Con este método, presupone que los datos originales están conformados por dos subconjuntos de variables: la matriz $X$ con variables no confidenciales y la matriz $Y$ con variables confidenciales. Se ajusta un modelo $Y = \\beta X + \\varepsilon $ el cual se usa para generar datos sintéticos $Y'$"
   ]
  },
  {
   "cell_type": "markdown",
   "id": "016b153c-6203-49a1-bbea-4bb05e49cf6c",
   "metadata": {
    "jp-MarkdownHeadingCollapsed": true,
    "tags": []
   },
   "source": [
    "## Instalación de biliotecas \n",
    "\n",
    "Para este ejercicio se hace uso de la biblioteca [RegSDC](https://cran.r-project.org/web/packages/RegSDC/index.html) la cual ofrece las funciones para aplicar IPSO. También se hace uso de la biblioteca minio.s3 para el acceso al lago de datos y las bibliotecas de tydiverse para manejar los datos. \n"
   ]
  },
  {
   "cell_type": "code",
   "execution_count": null,
   "id": "e41afba6-0ce0-4ec4-b9d3-bc6d0dd3925d",
   "metadata": {
    "vscode": {
     "languageId": "r"
    }
   },
   "outputs": [],
   "source": [
    "library(devtools)\n",
    "install_github(\"nagdevAmruthnath/minio.s3\")\n",
    "install.packages(\"RegSDC\")\n",
    "install.packages(\"tidyverse\")\n",
    "install.packages(\"synthpop\")"
   ]
  },
  {
   "cell_type": "markdown",
   "id": "a115485f-24b1-4fd3-ae85-efc3d3f351e9",
   "metadata": {
    "jp-MarkdownHeadingCollapsed": true,
    "tags": []
   },
   "source": [
    "## Importación de bibliotecas"
   ]
  },
  {
   "cell_type": "code",
   "execution_count": null,
   "id": "31579a2c-8460-4809-baf8-195dc972c465",
   "metadata": {
    "vscode": {
     "languageId": "r"
    }
   },
   "outputs": [],
   "source": [
    "library(RegSDC)\n",
    "library(minio.s3)\n",
    "library(tidyverse)\n",
    "library(tidymodels)"
   ]
  },
  {
   "cell_type": "markdown",
   "id": "be077df7-7c75-4596-a19a-1bd4e8432166",
   "metadata": {},
   "source": [
    "## Acceso a los datos del lago"
   ]
  },
  {
   "cell_type": "code",
   "execution_count": null,
   "id": "0069197e-d79c-4d49-8644-b93e7c221de3",
   "metadata": {
    "vscode": {
     "languageId": "r"
    }
   },
   "outputs": [],
   "source": [
    "Sys.setenv(\"AWS_ACCESS_KEY_ID\" = readline(prompt = \"Usuario: \"),\n",
    "           \"AWS_SECRET_ACCESS_KEY\" = getPass(prompt = \"Contraseña: \"),\n",
    "          \"AWS_S3_ENDPOINT\"= \"lcidn4.inegi.gob.mx:9100\"\n",
    "          )\n",
    "ruta_archivo <- \"s3://hostname/nombredearchivo.ext\""
   ]
  },
  {
   "cell_type": "markdown",
   "id": "3b94d033-f1e6-482f-8779-f70d93773cc7",
   "metadata": {},
   "source": [
    "## Variables de interés \n",
    "\n",
    "Para este ejercicio no requerimos hacer uso de FAC el cual indica el factor de expansión. Por lo que las variables de interés serán:\n",
    "\n",
    "- **LOC:** Localidad\n",
    "- **MUN:** Municipio\n",
    "- **T_LOC:** Tamaño de localidad \n",
    "- **MAN:** Manzana\n",
    "- **CD_A:** Ciudad auto representada\n",
    "- **ENT:** Entidad\n",
    "- **AGEB:** Área GeoEstadística Básica\n",
    "- **SEX:** Sexo\n",
    "- **EDA:** Edad \n",
    "- **NAC_DIA:** Dia de nacimiento\n",
    "- **NAC_MES:** Mes de nacimiento\n",
    "- **NAC_ANIO:** Año de nacimiento \n",
    "- **CS_P13_1:** Nivel escolar\n",
    "- **POS_OCU:** Posición en la ocupación\n",
    "- **INGOCUP:** Ingreso del personal ocupado \n",
    "\n",
    "Como se puede observar, las variables son en general variables de identificación o variables sensibles. Por lo que la aplicación de datos sintéticos resulta ideal."
   ]
  },
  {
   "cell_type": "code",
   "execution_count": null,
   "id": "ee54f116-732b-4124-a598-4e64af518dfe",
   "metadata": {
    "jupyter": {
     "source_hidden": true
    },
    "tags": [],
    "vscode": {
     "languageId": "r"
    }
   },
   "outputs": [],
   "source": [
    "variables_interes <- c('LOC','MUN','T_LOC','MAN','CD_A','ENT','AGEB','SEX','EDA','NAC_DIA','NAC_MES','NAC_ANIO','CS_P13_1','POS_OCU','INGOCUP')\n",
    "variables_interes"
   ]
  },
  {
   "cell_type": "markdown",
   "id": "ae2a876c-d73a-4bb4-a214-e61dc946391b",
   "metadata": {},
   "source": [
    "La tabla original se limita a las variables de interés, dentro del mismo proceso se elige el tipo de variables. \n",
    "La mayoría de los datos son tipo factor. Debido a que representan un numero finito de clases donde no tiene sentido analizar el valor numérico.\n",
    "La excepción resulta las variables EDA, NAC_DIA, NAC_MES, NAC_ANIO, INGOCUP las cuales si hacen referencia a un valor numérico. \n",
    "\n",
    "También se filtra este ejercicio a registros donde el año de nacimiento sea distinto de 9999 (se desconoce el año de nacimiento) y el día de nacimiento distinto de 99 (se desconoce el día de nacimiento). Ya que al ser un método de regresión, estos valores contaminarán el modelo. Además, se omiten los registros que tienen valores faltantes.  \n",
    "\n",
    "Adicionalmente se realiza un muestreo aleatorio con solo el 1% de los datos, esto permite obtener resultados más rápidos. Una vez establecido el modelo final, es necesario utilizar la tabla de datos completa."
   ]
  },
  {
   "cell_type": "code",
   "execution_count": null,
   "id": "11b1a7f0-0190-4c4a-97ad-519ab3dea6e7",
   "metadata": {
    "jupyter": {
     "source_hidden": true
    },
    "tags": [],
    "vscode": {
     "languageId": "r"
    }
   },
   "outputs": [],
   "source": [
    "# Establecemos una semilla para que los resultados sean reproducibles\n",
    "set.seed(2022)\n",
    "sdem_interes  <- tabla_sdem %>% \n",
    "    select(all_of(variables_interes))  %>%\n",
    "    mutate_at( \n",
    "        c(\n",
    "            'LOC','MUN','T_LOC','MAN','CD_A','ENT','AGEB','SEX','CS_P13_1','POS_OCU'\n",
    "        ),\n",
    "        factor\n",
    "    ) %>% \n",
    "    mutate_at( \n",
    "        c(\n",
    "            'EDA','NAC_DIA','NAC_MES','NAC_ANIO','INGOCUP'\n",
    "        ),\n",
    "        as.numeric\n",
    "    ) %>% \n",
    "    filter (\n",
    "        ! NAC_ANIO == 9999,\n",
    "        ! NAC_DIA == 99,\n",
    "        ! is.na(CS_P13_1) \n",
    "    ) %>% \n",
    "    slice_sample(prop=0.01,replace=FALSE)\n",
    "\n",
    "head(sdem_interes)"
   ]
  },
  {
   "cell_type": "markdown",
   "id": "aeec432f-cac0-46f6-ace9-aafd4fda6d20",
   "metadata": {},
   "source": [
    "### Selección de variables confidenciales y no confidenciales\n",
    "\n",
    "Para este ejercicio seleccionamos las variables confidenciales:\n",
    "\n",
    "- **LOC:** Localidad\n",
    "- **MUN:** Municipio\n",
    "- **T_LOC:** Tamaño de localidad \n",
    "- **MAN:** Manzana\n",
    "- **CD_A:** Ciudad auto representada\n",
    "- **ENT:** Entidad\n",
    "- **AGEB:** Área GeoEstadística Básica\n",
    "\n",
    "las cuales formaran nuestra matriz $X$. Por lo tanto, las variables no confidenciales que forman la matriz $Y$ serán:\n",
    "\n",
    "- **SEX:** Sexo\n",
    "- **EDA:** Edad \n",
    "- **NAC_DIA:** Dia de nacimiento\n",
    "- **NAC_MES:** Mes de nacimiento\n",
    "- **NAC_ANIO:** Año de nacimiento \n",
    "- **CS_P13_1:** Nivel escolar\n",
    "- **POS_OCU:** Posición en la ocupación\n",
    "- **INGOCUP:** Ingreso del personal ocupado\n"
   ]
  },
  {
   "cell_type": "code",
   "execution_count": null,
   "id": "f3018193-7c5f-4cf1-b00d-9e8a396d1f1f",
   "metadata": {
    "tags": [],
    "vscode": {
     "languageId": "r"
    }
   },
   "outputs": [],
   "source": [
    "X <- sdem_interes %>% select (all_of(c('LOC','MUN','T_LOC','MAN','CD_A','ENT','AGEB')))\n",
    "head(X) "
   ]
  },
  {
   "cell_type": "code",
   "execution_count": null,
   "id": "71158811-8c96-4b4e-a977-9de7d7d924dd",
   "metadata": {
    "vscode": {
     "languageId": "r"
    }
   },
   "outputs": [],
   "source": [
    "Y <- sdem_interes %>% select (all_of(c('SEX','POS_OCU','EDA','NAC_DIA','NAC_MES','NAC_ANIO','CS_P13_1','INGOCUP')))\n",
    "head(Y) "
   ]
  },
  {
   "cell_type": "markdown",
   "id": "f76eb7f7-e68a-41b6-b7cc-f1a4b3a69c7a",
   "metadata": {},
   "source": [
    "### Preprocesamiento de datos\n",
    "\n",
    "debido a que tenemos variables del tipo categóricas, es necesario crear columnas de tipo dummy las cuales indican con un 1 si el registro pertenece a este valor en la variable y 0 en el caso contrario. A este proceso se le denomina *one hot encoding*.\n",
    "\n"
   ]
  },
  {
   "cell_type": "code",
   "execution_count": null,
   "id": "b9c67ef5-df19-4eb0-a4bc-300c035217c1",
   "metadata": {
    "jupyter": {
     "source_hidden": true
    },
    "scrolled": true,
    "tags": [],
    "vscode": {
     "languageId": "r"
    }
   },
   "outputs": [],
   "source": [
    "X_onehot = model.matrix(~ LOC + MUN + T_LOC + MAN + CD_A+ ENT+ AGEB, data = X)\n",
    "X_onehot"
   ]
  },
  {
   "cell_type": "code",
   "execution_count": null,
   "id": "371c39ba-b656-443f-a02c-8254450c7064",
   "metadata": {
    "jupyter": {
     "source_hidden": true
    },
    "scrolled": true,
    "tags": [],
    "vscode": {
     "languageId": "r"
    }
   },
   "outputs": [],
   "source": [
    "Y_onehot = model.matrix(~ 0+SEX+POS_OCU+EDA+NAC_DIA+NAC_MES+NAC_ANIO+CS_P13_1+INGOCUP, data = Y)\n",
    "\n",
    "# por defecto este sistema omite el primer valor de las variables categóricas\n",
    "# Para Y es necesario también tener una columna para esta variable, por lo que se hace el siguiente proceso\n",
    "old_contr <- options(\"contrasts\")$contrasts\n",
    "new_contr <- old_contr\n",
    "new_contr[\"unordered\"] <- \"contr_one_hot\"\n",
    "options(contrasts = new_contr)\n",
    "\n",
    "Y_onehot = model.matrix(~ 0+SEX+POS_OCU+EDA+NAC_DIA+NAC_MES+NAC_ANIO+CS_P13_1+INGOCUP, data = Y)\n",
    "Y_onehot"
   ]
  },
  {
   "cell_type": "markdown",
   "id": "1973743b-d3bf-474f-af69-e9730917ddae",
   "metadata": {},
   "source": [
    "## Creación del modelo \n",
    "\n",
    "Creamos el modelo, adicionalmente medimos el tiempo que tomó crearlo"
   ]
  },
  {
   "cell_type": "code",
   "execution_count": null,
   "id": "8d11690c-6830-4a3a-863c-7705f50a8728",
   "metadata": {
    "jupyter": {
     "source_hidden": true
    },
    "tags": [],
    "vscode": {
     "languageId": "r"
    }
   },
   "outputs": [],
   "source": [
    "system.time( \n",
    "    modelo <- RegSDCipso(Y_onehot, X_onehot, ensureIntercept = TRUE) %>%\n",
    "        as_tibble()\n",
    ")"
   ]
  },
  {
   "cell_type": "code",
   "execution_count": null,
   "id": "1a8506e8-c715-4ce7-a174-9a91e1afda96",
   "metadata": {
    "scrolled": true,
    "tags": [],
    "vscode": {
     "languageId": "r"
    }
   },
   "outputs": [],
   "source": [
    "modelo"
   ]
  },
  {
   "cell_type": "markdown",
   "id": "f3f83888-10e7-4400-9d1a-4d4ae53bba28",
   "metadata": {},
   "source": [
    "### Postprocesamiento de datos\n",
    "\n",
    "Como podemos ver en el modelo creado, los valores creados no se parecen nada a los datos originales, por lo que es necesario procesarlos para que tengan la forma deseada. \n",
    "\n",
    "1. Es necesario hacer el proceso inverso al one hot encoding para obtener el valor predicho\n",
    "2. Los valores pudieron haberse salido de sus rangos normales, por ejemplo valores de mes de nacimiento de 15 (no existe el mes numero 15) o ingresos negativos. Por lo que se truncan estos valores"
   ]
  },
  {
   "cell_type": "code",
   "execution_count": 13,
   "id": "8f56f8c6-0a92-4b19-95c8-13ba3c2b1e49",
   "metadata": {
    "jupyter": {
     "source_hidden": true
    },
    "tags": [],
    "vscode": {
     "languageId": "r"
    }
   },
   "outputs": [],
   "source": [
    "cols_SEX = names(modelo)[startsWith(names(modelo),'SEX')]\n",
    "cols_POS_OCU = names(modelo)[startsWith(names(modelo),'POS_OCU')]\n",
    "cols_CS_P13_1 = names(modelo)[startsWith(names(modelo),'CS_P13_1')]\n",
    "\n",
    "Y_synt <- modelo %>% mutate (\n",
    "        SEX = substr(cols_SEX[max.col(modelo[cols_SEX])],4,4),\n",
    "        POS_OCU = substr(cols_POS_OCU[max.col(modelo[cols_POS_OCU])],8,8),\n",
    "        CS_P13_1 = substr(cols_CS_P13_1[max.col(modelo[cols_CS_P13_1])],9,10)\n",
    "    ) %>% mutate_at( \n",
    "        c(\n",
    "            'SEX','POS_OCU', 'CS_P13_1'\n",
    "        ),\n",
    "        factor\n",
    "    ) %>% mutate_at( \n",
    "        c(\n",
    "            'EDA','NAC_DIA','NAC_MES','NAC_ANIO','INGOCUP'\n",
    "        ),\n",
    "        as.integer\n",
    "    ) %>% mutate( \n",
    "        EDA = pmin(pmax(EDA,0),97),\n",
    "        NAC_DIA = pmin(pmax(NAC_DIA,0),30),\n",
    "        NAC_MES = pmin(pmax(NAC_MES,0),12),\n",
    "        NAC_ANIO = pmin(pmax(NAC_ANIO,1921),2020),\n",
    "        INGOCUP = pmax(INGOCUP,0),\n",
    "    ) %>% select(\n",
    "        all_of(names(Y))\n",
    "    )"
   ]
  },
  {
   "cell_type": "markdown",
   "id": "cf4778eb-0a76-413d-bd39-5380540ab261",
   "metadata": {},
   "source": [
    "3. Finalmente, se integran los datos sinteticos $Y'$ con los datod no confidenciales $X$ para obtener la version sintetica (parcial) de los datos originales "
   ]
  },
  {
   "cell_type": "code",
   "execution_count": null,
   "id": "1b2ada0a-39ad-4a06-8e02-90f4a9334dff",
   "metadata": {
    "jupyter": {
     "source_hidden": true
    },
    "tags": [],
    "vscode": {
     "languageId": "r"
    }
   },
   "outputs": [],
   "source": [
    "sdem_interes_synt <- bind_cols(X,Y_synt)\n",
    "\n",
    "head(sdem_interes_synt)"
   ]
  },
  {
   "cell_type": "markdown",
   "id": "9c7ac7ca-34ac-4d6d-86f1-4e0b2996894f",
   "metadata": {},
   "source": [
    "## Revisión de resultados\n",
    "\n",
    "Podemos realizar una inspección visual de las distribuciones de cada una de las variables. Por lo que hacemos uso de la biblioteca [synthpop]( https://www.synthpop.org.uk/)"
   ]
  },
  {
   "cell_type": "code",
   "execution_count": null,
   "id": "577699bf-00ef-4f88-98d7-02c41ac5170d",
   "metadata": {
    "collapsed": true,
    "jupyter": {
     "outputs_hidden": true,
     "source_hidden": true
    },
    "tags": [],
    "vscode": {
     "languageId": "r"
    }
   },
   "outputs": [],
   "source": [
    "library(synthpop)\n",
    "\n",
    "options(repr.plot.width = 10, repr.plot.height =10)"
   ]
  },
  {
   "cell_type": "markdown",
   "id": "a72fb824-5231-46d9-9494-cf5cd92cb21b",
   "metadata": {},
   "source": [
    "Comparamos la distribucion original contra la sintetica"
   ]
  },
  {
   "cell_type": "code",
   "execution_count": null,
   "id": "d70ef066-f782-4a05-b8e0-19b57332ad38",
   "metadata": {
    "jupyter": {
     "source_hidden": true
    },
    "tags": [],
    "vscode": {
     "languageId": "r"
    }
   },
   "outputs": [],
   "source": [
    "compare(as.data.frame(sdem_interes_synt),as.data.frame(sdem_interes), vars= names(Y_synt), nrow = 3, ncol = 3)"
   ]
  },
  {
   "cell_type": "markdown",
   "id": "8ef4c7a8-d18c-40fa-95d1-075475ef7793",
   "metadata": {},
   "source": [
    "Asi tambien podemos comparar relaciones entre variables. Por ejemplo, la relacion entre la edad y el año de nacimiento, la cual es conocida a priori."
   ]
  },
  {
   "cell_type": "code",
   "execution_count": null,
   "id": "4a64cc24-de9f-4428-bad7-cb0ebc50d7d7",
   "metadata": {
    "jupyter": {
     "source_hidden": true
    },
    "tags": [],
    "vscode": {
     "languageId": "r"
    }
   },
   "outputs": [],
   "source": [
    "rbind(\n",
    "    sdem_interes_synt %>% mutate(tipo = \"synthetic\"),\n",
    "    sdem_interes %>% mutate(tipo = \"observed\")\n",
    ")  %>% ggplot(aes(EDA, NAC_ANIO, shape=tipo, color=tipo)) + geom_point()"
   ]
  }
 ],
 "metadata": {
  "kernelspec": {
   "display_name": "R",
   "language": "R",
   "name": "ir"
  },
  "language_info": {
   "codemirror_mode": "r",
   "file_extension": ".r",
   "mimetype": "text/x-r-source",
   "name": "R",
   "pygments_lexer": "r",
   "version": "4.1.3"
  }
 },
 "nbformat": 4,
 "nbformat_minor": 5
}
